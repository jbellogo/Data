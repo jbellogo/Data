{
 "cells": [
  {
   "cell_type": "code",
   "execution_count": 1,
   "id": "7de0b52a",
   "metadata": {},
   "outputs": [],
   "source": [
    "from hangman import guess "
   ]
  },
  {
   "cell_type": "code",
   "execution_count": 2,
   "id": "25ae85bd",
   "metadata": {},
   "outputs": [
    {
     "name": "stdout",
     "output_type": "stream",
     "text": [
      "e\n",
      "CORRECT\n",
      "==============\n",
      "i\n",
      "CORRECT\n",
      "==============\n",
      "n\n",
      "CORRECT\n",
      "==============\n",
      "s\n",
      "!!!!!! INCORRECT !!!!!!\n",
      "==============\n",
      "a\n",
      "CORRECT\n",
      "==============\n",
      "t\n",
      "CORRECT\n",
      "==============\n",
      "o\n",
      "CORRECT\n",
      "==============\n",
      "r\n",
      "!!!!!! INCORRECT !!!!!!\n",
      "==============\n",
      "l\n",
      "CORRECT\n",
      "==============\n",
      "c\n",
      "CORRECT\n",
      "==============\n",
      "m\n",
      "!!!!!! INCORRECT !!!!!!\n",
      "==============\n",
      "y\n",
      "!!!!!! INCORRECT !!!!!!\n",
      "==============\n",
      "z\n",
      "!!!!!! INCORRECT !!!!!!\n",
      "==============\n",
      "g\n",
      "CORRECT\n",
      "==============\n",
      "w\n",
      "CORRECT\n",
      "==============\n",
      "k\n",
      "CORRECT\n",
      "==============\n",
      "d\n",
      "CORRECT\n",
      "==============\n",
      "0\n",
      "GAME OVER, WON\n"
     ]
    }
   ],
   "source": [
    "guess(\"twiceacknowledged\")"
   ]
  }
 ],
 "metadata": {
  "kernelspec": {
   "display_name": "Python 3 (ipykernel)",
   "language": "python",
   "name": "python3"
  },
  "language_info": {
   "codemirror_mode": {
    "name": "ipython",
    "version": 3
   },
   "file_extension": ".py",
   "mimetype": "text/x-python",
   "name": "python",
   "nbconvert_exporter": "python",
   "pygments_lexer": "ipython3",
   "version": "3.11.5"
  }
 },
 "nbformat": 4,
 "nbformat_minor": 5
}
