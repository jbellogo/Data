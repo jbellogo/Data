{
 "cells": [
  {
   "cell_type": "code",
   "execution_count": 4,
   "id": "0941bacc-eafe-4a2f-8347-4c6a36250d81",
   "metadata": {
    "tags": []
   },
   "outputs": [],
   "source": [
    "import torch # torch will allow us to create tensors.\n",
    "import torch.nn as nn # torch.nn allows us to create a neural network.\n",
    "import torch.nn.functional as F # nn.functional give us access to the activation and loss functions.\n",
    "from torch.optim import Adam # optim contains many optimizers. This time we're using Adam\n",
    "\n",
    "import lightning as L # lightning has tons of cool tools that make neural networks easier\n",
    "from torch.utils.data import TensorDataset, DataLoader # these are needed for the training data"
   ]
  },
  {
   "cell_type": "markdown",
   "id": "62e83fe1-824c-43f7-b867-b71b67057a08",
   "metadata": {},
   "source": [
    "# Create the training data for the NN"
   ]
  },
  {
   "cell_type": "code",
   "execution_count": null,
   "id": "b8156f9d-8197-4f8b-bac0-68db14ca89ef",
   "metadata": {},
   "outputs": [],
   "source": [
    "# input: The obscure word. Representation: A vector of variable length (corresponding to the word) with letter indices (in [1,26] U {0}) in variable positions, zero determines unguessed. \n",
    "# label: The visible word. Representation: A vector of length 26 with probability distributions [0,1]"
   ]
  },
  {
   "cell_type": "markdown",
   "id": "279889b4-57c9-4e99-91f1-d73430b445ea",
   "metadata": {},
   "source": [
    "# Notes:\n",
    "* If we can keep the information of incorrect guesses, we're better off.\n",
    "* Keep the information about length\n",
    "* Keep the information of which letters and at what positions they were in. \n",
    "* Basically keep as much information from the word structure as we can. \n",
    "\n",
    "### So what should the input be?\n",
    "* The obscured word with the correct guesses. CON\n",
    "* A vector of length 27 with three possible values: guessed correctly, not guessed yet, or guessed incorrectly. CON: doesn't keep track of length of word or position of letters."
   ]
  },
  {
   "cell_type": "code",
   "execution_count": null,
   "id": "6ac0d720-7003-418d-9467-5be03edfa2d8",
   "metadata": {},
   "outputs": [],
   "source": []
  }
 ],
 "metadata": {
  "kernelspec": {
   "display_name": "Python 3 (ipykernel)",
   "language": "python",
   "name": "python3"
  },
  "language_info": {
   "codemirror_mode": {
    "name": "ipython",
    "version": 3
   },
   "file_extension": ".py",
   "mimetype": "text/x-python",
   "name": "python",
   "nbconvert_exporter": "python",
   "pygments_lexer": "ipython3",
   "version": "3.11.5"
  }
 },
 "nbformat": 4,
 "nbformat_minor": 5
}
